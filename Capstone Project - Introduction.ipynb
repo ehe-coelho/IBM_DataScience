{
 "cells": [
  {
   "cell_type": "markdown",
   "metadata": {},
   "source": [
    "# Introduction/Business Problem"
   ]
  },
  {
   "cell_type": "markdown",
   "metadata": {},
   "source": [
    "## - Intro"
   ]
  },
  {
   "cell_type": "markdown",
   "metadata": {},
   "source": [
    "Today, whatever the business, the competition is very fierce and requires a high level of commitment and differential to stand out. One of these ways is to use the data in your favor, something that can help even before opening a business."
   ]
  },
  {
   "cell_type": "markdown",
   "metadata": {},
   "source": [
    "In this context, it was sought to analyze the feasibility of a new business in NY city. In which the focus is to serve people who stay at the Four Seasons Hotel New York Downtown."
   ]
  },
  {
   "cell_type": "markdown",
   "metadata": {},
   "source": [
    "## - Data"
   ]
  },
  {
   "cell_type": "markdown",
   "metadata": {},
   "source": [
    "Thus, a series of questions will be made to try to answer which is the best business to open near the Hotel, some of them are : \n",
    "\n",
    " - survey of all businesses around the Hotel, using foursquare ;\n",
    " - which are the businesses with the best scores in NY and close to the Hotel;\n",
    " - types of businesses in NY and near the Hotel;\n",
    " - outhers;\n"
   ]
  },
  {
   "cell_type": "markdown",
   "metadata": {},
   "source": [
    "In possession of this data, an analysis will be carried out and thus we will have a position of the best business to open for this client."
   ]
  },
  {
   "cell_type": "code",
   "execution_count": null,
   "metadata": {},
   "outputs": [],
   "source": []
  }
 ],
 "metadata": {
  "kernelspec": {
   "display_name": "Python 3",
   "language": "python",
   "name": "python3"
  },
  "language_info": {
   "codemirror_mode": {
    "name": "ipython",
    "version": 3
   },
   "file_extension": ".py",
   "mimetype": "text/x-python",
   "name": "python",
   "nbconvert_exporter": "python",
   "pygments_lexer": "ipython3",
   "version": "3.7.3"
  }
 },
 "nbformat": 4,
 "nbformat_minor": 4
}
